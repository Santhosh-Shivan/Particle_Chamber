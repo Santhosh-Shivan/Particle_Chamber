{
 "cells": [
  {
   "cell_type": "code",
   "execution_count": 32,
   "source": [
    "import deeptrack as dt\r\n",
    "from deeptrack.models.yolo import utils\r\n",
    "import numpy as np\r\n",
    "import matplotlib.pyplot as plt\r\n",
    "\r\n",
    "from simulation import *"
   ],
   "outputs": [],
   "metadata": {}
  },
  {
   "cell_type": "code",
   "execution_count": 33,
   "source": [
    "sim= MultiParticle(\r\n",
    "    \r\n",
    "    \r\n",
    "    n_particles = lambda: int(np.random.rand()*10) + 15,\r\n",
    "        \r\n",
    "    \r\n",
    ")\r\n",
    "starting_value = dt.Value(lambda: np.ones((IMAGE_SIZE, IMAGE_SIZE)))\r\n",
    "\r\n",
    "sim= starting_value >> MultiParticle(\r\n",
    "    n_particles = lambda: int(np.random.rand()*10) + 15,\r\n",
    ")\r\n",
    "\r\n",
    "particle =  sim[0]\r\n",
    "pos =  sim[1]\r\n",
    "rad =  sim[2]\r\n",
    "\r\n",
    "\r\n",
    "\r\n",
    "\r\n"
   ],
   "outputs": [],
   "metadata": {}
  },
  {
   "cell_type": "code",
   "execution_count": 203,
   "source": [
    "print(pos.resolve())\r\n",
    "print(rad.resolve())"
   ],
   "outputs": [
    {
     "output_type": "stream",
     "name": "stdout",
     "text": [
      "Image(array([[95.4388479 , 92.83221213],\n",
      "       [17.24904284, 27.0755127 ],\n",
      "       [37.08994345, 48.68179895],\n",
      "       [21.74113487, 62.42353708],\n",
      "       [41.86144144,  8.30276784],\n",
      "       [73.06197007, 70.77536092],\n",
      "       [ 4.53360205, 30.71499169],\n",
      "       [68.05067905, 78.98171148],\n",
      "       [60.11809015, 59.88783825],\n",
      "       [78.15844424, 66.01043536],\n",
      "       [63.57074131, 72.04571455],\n",
      "       [32.9966145 , 81.97902834],\n",
      "       [53.93480455, 34.87411615],\n",
      "       [19.97358733,  4.48004108],\n",
      "       [97.44132705, 43.51237193],\n",
      "       [45.77577548, 53.55694118],\n",
      "       [ 8.40493573, 27.08631213],\n",
      "       [31.13276837, 63.81474919],\n",
      "       [93.37053933, 63.06279786]]))\n",
      "Image(array([[2.57831734],\n",
      "       [2.06932651],\n",
      "       [2.5275487 ],\n",
      "       [2.14278909],\n",
      "       [2.34966374],\n",
      "       [2.55172   ],\n",
      "       [2.14496138],\n",
      "       [2.83655537],\n",
      "       [2.52517086],\n",
      "       [2.29838099],\n",
      "       [2.6331675 ],\n",
      "       [2.55334598],\n",
      "       [2.3646416 ],\n",
      "       [2.24667131],\n",
      "       [2.73603216],\n",
      "       [2.89515606],\n",
      "       [2.16263573],\n",
      "       [2.76772779],\n",
      "       [2.93897859]]))\n"
     ]
    }
   ],
   "metadata": {}
  },
  {
   "cell_type": "code",
   "execution_count": 38,
   "source": [
    "gradient = dt.IlluminationGradient(\r\n",
    "    gradient=[.5e-3, 0e-3],#lambda: 1e-3 + np.random.randn(2) * 1e-3,\r\n",
    ")\r\n",
    "\r\n",
    "class Normalize(dt.Feature):\r\n",
    "    def __init__(\r\n",
    "        self, **kwargs\r\n",
    "    ):\r\n",
    "        super().__init__( **kwargs)\r\n",
    "\r\n",
    "    def get(self, image, **kwargs):\r\n",
    "        image = image / np.max(image)\r\n",
    "        return image\r\n",
    "\r\n",
    "normalization = Normalize()\r\n",
    "\r\n",
    "gauss = dt.Gaussian(mu = 0, sigma = .01)\r\n",
    "\r\n",
    "import scipy\r\n",
    "#Smoothing\r\n",
    "kernel = np.ones((3, 3)) / 15\r\n",
    "smoothing = dt.Lambda(lambda: lambda image: scipy.ndimage.filters.convolve(image, kernel)) \r\n",
    "\r\n",
    "particle = particle >>  smoothing  >>gauss >> normalization "
   ],
   "outputs": [],
   "metadata": {}
  },
  {
   "cell_type": "code",
   "execution_count": 273,
   "source": [
    "\"\"\"def get_label(a, b):\r\n",
    "    a = a.resolve()\r\n",
    "    b = b.resolve()\r\n",
    "    n = int(np.shape(a)[0])\r\n",
    "    label = np.zeros((n,4))\r\n",
    "\r\n",
    "    for i in range(n):\r\n",
    "        label[i,:] = [int(a[i, 0]), int(a[i, 1]), b[i], b[i]]\r\n",
    "\r\n",
    "    \r\n",
    "    return label #(np.asarray(a.resolve()), np.asarray(b.resolve()))\"\"\"\r\n",
    "\r\n",
    "def get_label(rad, pos):\r\n",
    "    rad = np.array(rad)\r\n",
    "    pos = np.array(pos)\r\n",
    "        \r\n",
    "    n = np.shape(rad)[0]  \r\n",
    "    label = np.zeros((n, 4))\r\n",
    "\r\n",
    "    for i in range ( n ):\r\n",
    "        label[i, : ] = [int(pos[i, 0]), int(pos[i, 1]), int(rad[i,0]), int(rad[i,0])]\r\n",
    "    \r\n",
    "    #print(label)\r\n",
    "    return label"
   ],
   "outputs": [],
   "metadata": {}
  },
  {
   "cell_type": "code",
   "execution_count": 279,
   "source": [
    "pos_and_rad = pos & rad\r\n",
    "\r\n",
    "#bboxes = pos_and_rad >> get_label\r\n",
    "label_func = dt.Lambda(lambda : lambda pos, rad: get_label(rad, pos), rad=rad, pos=pos)\r\n",
    "#bboxes.resolve()\r\n",
    "#data = particle & bboxes\r\n",
    "#print(data.resolve())\r\n",
    "a = label_func\r\n",
    "\r\n",
    "print(a.resolve())"
   ],
   "outputs": [
    {
     "output_type": "stream",
     "name": "stdout",
     "text": [
      "[]\n"
     ]
    }
   ],
   "metadata": {}
  },
  {
   "cell_type": "code",
   "execution_count": 230,
   "source": [
    "NUMBER_OF_IMAGES = 5\r\n",
    "\r\n",
    "for _ in range(NUMBER_OF_IMAGES):\r\n",
    "    particle.update()\r\n",
    "    pos = pos.update()\r\n",
    "    rad = rad.update()\r\n",
    "    pos_and_rad = pos & rad \r\n",
    "\r\n",
    "    bboxes = label_func.resolve\r\n",
    "\r\n",
    "    label = bboxes\r\n",
    "    print(np.array(label))\r\n",
    "    image_of_particle = particle.resolve()\r\n",
    "    \r\n",
    "\r\n",
    "    \r\n",
    "    n = np.shape(label)[0]\r\n",
    "    position_of_particles = label[:,0:2]\r\n",
    "    print(position_of_particles)\r\n",
    "    radius_of_particles = label[:,2] \r\n",
    "    \r\n",
    "    plt.imshow(image_of_particle, cmap=\"gray\", vmin = 0)\r\n",
    "    plt.colorbar()\r\n",
    "    ax = plt.gca()\r\n",
    "    for i in range(int(n)):\r\n",
    "        rect = plt.Rectangle((label[i,0]-label[i,2],label[i,1]-label[i,2]),2*label[i,2],2*label[i,2],linewidth=1,edgecolor='r',facecolor='none')\r\n",
    "        # Add the patch to the Axes\r\n",
    "        ax.add_patch(rect)\r\n",
    "    \r\n",
    "    \r\n",
    "    #plt.scatter(position_of_particles[:,0], position_of_particles[:,1], marker='+', edgecolors=\"r\", linewidth=2)\r\n",
    "    plt.show()"
   ],
   "outputs": [
    {
     "output_type": "error",
     "ename": "NotImplementedError",
     "evalue": "Indexing with non-integer types not yet implemented",
     "traceback": [
      "\u001b[1;31m---------------------------------------------------------------------------\u001b[0m",
      "\u001b[1;31mNotImplementedError\u001b[0m                       Traceback (most recent call last)",
      "\u001b[1;32m<ipython-input-230-20c1a5adab01>\u001b[0m in \u001b[0;36m<module>\u001b[1;34m\u001b[0m\n\u001b[0;32m      7\u001b[0m     \u001b[0mpos_and_rad\u001b[0m \u001b[1;33m=\u001b[0m \u001b[0mpos\u001b[0m \u001b[1;33m&\u001b[0m \u001b[0mrad\u001b[0m\u001b[1;33m\u001b[0m\u001b[1;33m\u001b[0m\u001b[0m\n\u001b[0;32m      8\u001b[0m \u001b[1;33m\u001b[0m\u001b[0m\n\u001b[1;32m----> 9\u001b[1;33m     \u001b[0mbboxes\u001b[0m \u001b[1;33m=\u001b[0m \u001b[0mlabel_func\u001b[0m\u001b[1;33m.\u001b[0m\u001b[0mresolve\u001b[0m\u001b[1;33m(\u001b[0m\u001b[0mpos\u001b[0m\u001b[1;33m,\u001b[0m \u001b[0mrad\u001b[0m\u001b[1;33m)\u001b[0m\u001b[1;33m\u001b[0m\u001b[1;33m\u001b[0m\u001b[0m\n\u001b[0m\u001b[0;32m     10\u001b[0m \u001b[1;33m\u001b[0m\u001b[0m\n\u001b[0;32m     11\u001b[0m     \u001b[0mlabel\u001b[0m \u001b[1;33m=\u001b[0m \u001b[0mbboxes\u001b[0m\u001b[1;33m\u001b[0m\u001b[1;33m\u001b[0m\u001b[0m\n",
      "\u001b[1;32mc:\\Users\\santh\\Desktop\\VScode\\Particle_Chamber\\deeptrack\\features.py\u001b[0m in \u001b[0;36m__call__\u001b[1;34m(self, image_list, replicate_index, **kwargs)\u001b[0m\n\u001b[0;32m    258\u001b[0m                     )\n\u001b[0;32m    259\u001b[0m \u001b[1;33m\u001b[0m\u001b[0m\n\u001b[1;32m--> 260\u001b[1;33m         \u001b[0moutput\u001b[0m \u001b[1;33m=\u001b[0m \u001b[0msuper\u001b[0m\u001b[1;33m(\u001b[0m\u001b[0mFeature\u001b[0m\u001b[1;33m,\u001b[0m \u001b[0mself\u001b[0m\u001b[1;33m)\u001b[0m\u001b[1;33m.\u001b[0m\u001b[0m__call__\u001b[0m\u001b[1;33m(\u001b[0m\u001b[0mreplicate_index\u001b[0m\u001b[1;33m=\u001b[0m\u001b[0mreplicate_index\u001b[0m\u001b[1;33m)\u001b[0m\u001b[1;33m\u001b[0m\u001b[1;33m\u001b[0m\u001b[0m\n\u001b[0m\u001b[0;32m    261\u001b[0m \u001b[1;33m\u001b[0m\u001b[0m\n\u001b[0;32m    262\u001b[0m         \u001b[1;32mfor\u001b[0m \u001b[0mkey\u001b[0m\u001b[1;33m,\u001b[0m \u001b[0mvalue\u001b[0m \u001b[1;32min\u001b[0m \u001b[0moriginal_values\u001b[0m\u001b[1;33m.\u001b[0m\u001b[0mitems\u001b[0m\u001b[1;33m(\u001b[0m\u001b[1;33m)\u001b[0m\u001b[1;33m:\u001b[0m\u001b[1;33m\u001b[0m\u001b[1;33m\u001b[0m\u001b[0m\n",
      "\u001b[1;32mc:\\Users\\santh\\Desktop\\VScode\\Particle_Chamber\\deeptrack\\backend\\core.py\u001b[0m in \u001b[0;36m__call__\u001b[1;34m(self, replicate_index)\u001b[0m\n\u001b[0;32m    266\u001b[0m \u001b[1;33m\u001b[0m\u001b[0m\n\u001b[0;32m    267\u001b[0m         \u001b[1;32mif\u001b[0m \u001b[1;32mnot\u001b[0m \u001b[0mself\u001b[0m\u001b[1;33m.\u001b[0m\u001b[0mis_valid\u001b[0m\u001b[1;33m(\u001b[0m\u001b[0mreplicate_index\u001b[0m\u001b[1;33m=\u001b[0m\u001b[0mreplicate_index\u001b[0m\u001b[1;33m)\u001b[0m\u001b[1;33m:\u001b[0m\u001b[1;33m\u001b[0m\u001b[1;33m\u001b[0m\u001b[0m\n\u001b[1;32m--> 268\u001b[1;33m             \u001b[0mnew_value\u001b[0m \u001b[1;33m=\u001b[0m \u001b[0mutils\u001b[0m\u001b[1;33m.\u001b[0m\u001b[0msafe_call\u001b[0m\u001b[1;33m(\u001b[0m\u001b[0mself\u001b[0m\u001b[1;33m.\u001b[0m\u001b[0maction\u001b[0m\u001b[1;33m,\u001b[0m \u001b[0mreplicate_index\u001b[0m\u001b[1;33m=\u001b[0m\u001b[0mreplicate_index\u001b[0m\u001b[1;33m)\u001b[0m\u001b[1;33m\u001b[0m\u001b[1;33m\u001b[0m\u001b[0m\n\u001b[0m\u001b[0;32m    269\u001b[0m             \u001b[0mself\u001b[0m\u001b[1;33m.\u001b[0m\u001b[0mstore\u001b[0m\u001b[1;33m(\u001b[0m\u001b[0mnew_value\u001b[0m\u001b[1;33m,\u001b[0m \u001b[0mreplicate_index\u001b[0m\u001b[1;33m=\u001b[0m\u001b[0mreplicate_index\u001b[0m\u001b[1;33m)\u001b[0m\u001b[1;33m\u001b[0m\u001b[1;33m\u001b[0m\u001b[0m\n\u001b[0;32m    270\u001b[0m \u001b[1;33m\u001b[0m\u001b[0m\n",
      "\u001b[1;32mc:\\Users\\santh\\Desktop\\VScode\\Particle_Chamber\\deeptrack\\utils.py\u001b[0m in \u001b[0;36msafe_call\u001b[1;34m(function, positional_args, **kwargs)\u001b[0m\n\u001b[0;32m    160\u001b[0m             \u001b[0minput_arguments\u001b[0m\u001b[1;33m[\u001b[0m\u001b[0mkey\u001b[0m\u001b[1;33m]\u001b[0m \u001b[1;33m=\u001b[0m \u001b[0mkwargs\u001b[0m\u001b[1;33m[\u001b[0m\u001b[0mkey\u001b[0m\u001b[1;33m]\u001b[0m\u001b[1;33m\u001b[0m\u001b[1;33m\u001b[0m\u001b[0m\n\u001b[0;32m    161\u001b[0m \u001b[1;33m\u001b[0m\u001b[0m\n\u001b[1;32m--> 162\u001b[1;33m     \u001b[1;32mreturn\u001b[0m \u001b[0mfunction\u001b[0m\u001b[1;33m(\u001b[0m\u001b[1;33m*\u001b[0m\u001b[0mpositional_args\u001b[0m\u001b[1;33m,\u001b[0m \u001b[1;33m**\u001b[0m\u001b[0minput_arguments\u001b[0m\u001b[1;33m)\u001b[0m\u001b[1;33m\u001b[0m\u001b[1;33m\u001b[0m\u001b[0m\n\u001b[0m",
      "\u001b[1;32mc:\\Users\\santh\\Desktop\\VScode\\Particle_Chamber\\deeptrack\\features.py\u001b[0m in \u001b[0;36maction\u001b[1;34m(self, replicate_index)\u001b[0m\n\u001b[0;32m    191\u001b[0m         \u001b[1;31m# Get the input arguments to the method .get()\u001b[0m\u001b[1;33m\u001b[0m\u001b[1;33m\u001b[0m\u001b[1;33m\u001b[0m\u001b[0m\n\u001b[0;32m    192\u001b[0m \u001b[1;33m\u001b[0m\u001b[0m\n\u001b[1;32m--> 193\u001b[1;33m         \u001b[0mfeature_input\u001b[0m \u001b[1;33m=\u001b[0m \u001b[0mself\u001b[0m\u001b[1;33m.\u001b[0m\u001b[0mproperties\u001b[0m\u001b[1;33m(\u001b[0m\u001b[0mreplicate_index\u001b[0m\u001b[1;33m=\u001b[0m\u001b[0mreplicate_index\u001b[0m\u001b[1;33m)\u001b[0m\u001b[1;33m.\u001b[0m\u001b[0mcopy\u001b[0m\u001b[1;33m(\u001b[0m\u001b[1;33m)\u001b[0m\u001b[1;33m\u001b[0m\u001b[1;33m\u001b[0m\u001b[0m\n\u001b[0m\u001b[0;32m    194\u001b[0m \u001b[1;33m\u001b[0m\u001b[0m\n\u001b[0;32m    195\u001b[0m         \u001b[1;31m# Call the _process_properties hook, default does nothing.\u001b[0m\u001b[1;33m\u001b[0m\u001b[1;33m\u001b[0m\u001b[1;33m\u001b[0m\u001b[0m\n",
      "\u001b[1;32mc:\\Users\\santh\\Desktop\\VScode\\Particle_Chamber\\deeptrack\\backend\\core.py\u001b[0m in \u001b[0;36m__call__\u001b[1;34m(self, replicate_index)\u001b[0m\n\u001b[0;32m    266\u001b[0m \u001b[1;33m\u001b[0m\u001b[0m\n\u001b[0;32m    267\u001b[0m         \u001b[1;32mif\u001b[0m \u001b[1;32mnot\u001b[0m \u001b[0mself\u001b[0m\u001b[1;33m.\u001b[0m\u001b[0mis_valid\u001b[0m\u001b[1;33m(\u001b[0m\u001b[0mreplicate_index\u001b[0m\u001b[1;33m=\u001b[0m\u001b[0mreplicate_index\u001b[0m\u001b[1;33m)\u001b[0m\u001b[1;33m:\u001b[0m\u001b[1;33m\u001b[0m\u001b[1;33m\u001b[0m\u001b[0m\n\u001b[1;32m--> 268\u001b[1;33m             \u001b[0mnew_value\u001b[0m \u001b[1;33m=\u001b[0m \u001b[0mutils\u001b[0m\u001b[1;33m.\u001b[0m\u001b[0msafe_call\u001b[0m\u001b[1;33m(\u001b[0m\u001b[0mself\u001b[0m\u001b[1;33m.\u001b[0m\u001b[0maction\u001b[0m\u001b[1;33m,\u001b[0m \u001b[0mreplicate_index\u001b[0m\u001b[1;33m=\u001b[0m\u001b[0mreplicate_index\u001b[0m\u001b[1;33m)\u001b[0m\u001b[1;33m\u001b[0m\u001b[1;33m\u001b[0m\u001b[0m\n\u001b[0m\u001b[0;32m    269\u001b[0m             \u001b[0mself\u001b[0m\u001b[1;33m.\u001b[0m\u001b[0mstore\u001b[0m\u001b[1;33m(\u001b[0m\u001b[0mnew_value\u001b[0m\u001b[1;33m,\u001b[0m \u001b[0mreplicate_index\u001b[0m\u001b[1;33m=\u001b[0m\u001b[0mreplicate_index\u001b[0m\u001b[1;33m)\u001b[0m\u001b[1;33m\u001b[0m\u001b[1;33m\u001b[0m\u001b[0m\n\u001b[0;32m    270\u001b[0m \u001b[1;33m\u001b[0m\u001b[0m\n",
      "\u001b[1;32mc:\\Users\\santh\\Desktop\\VScode\\Particle_Chamber\\deeptrack\\utils.py\u001b[0m in \u001b[0;36msafe_call\u001b[1;34m(function, positional_args, **kwargs)\u001b[0m\n\u001b[0;32m    160\u001b[0m             \u001b[0minput_arguments\u001b[0m\u001b[1;33m[\u001b[0m\u001b[0mkey\u001b[0m\u001b[1;33m]\u001b[0m \u001b[1;33m=\u001b[0m \u001b[0mkwargs\u001b[0m\u001b[1;33m[\u001b[0m\u001b[0mkey\u001b[0m\u001b[1;33m]\u001b[0m\u001b[1;33m\u001b[0m\u001b[1;33m\u001b[0m\u001b[0m\n\u001b[0;32m    161\u001b[0m \u001b[1;33m\u001b[0m\u001b[0m\n\u001b[1;32m--> 162\u001b[1;33m     \u001b[1;32mreturn\u001b[0m \u001b[0mfunction\u001b[0m\u001b[1;33m(\u001b[0m\u001b[1;33m*\u001b[0m\u001b[0mpositional_args\u001b[0m\u001b[1;33m,\u001b[0m \u001b[1;33m**\u001b[0m\u001b[0minput_arguments\u001b[0m\u001b[1;33m)\u001b[0m\u001b[1;33m\u001b[0m\u001b[1;33m\u001b[0m\u001b[0m\n\u001b[0m",
      "\u001b[1;32mc:\\Users\\santh\\Desktop\\VScode\\Particle_Chamber\\deeptrack\\properties.py\u001b[0m in \u001b[0;36maction\u001b[1;34m(replicate_index)\u001b[0m\n\u001b[0;32m    145\u001b[0m \u001b[1;33m\u001b[0m\u001b[0m\n\u001b[0;32m    146\u001b[0m         \u001b[1;32mdef\u001b[0m \u001b[0maction\u001b[0m\u001b[1;33m(\u001b[0m\u001b[0mreplicate_index\u001b[0m\u001b[1;33m=\u001b[0m\u001b[1;32mNone\u001b[0m\u001b[1;33m)\u001b[0m\u001b[1;33m:\u001b[0m\u001b[1;33m\u001b[0m\u001b[1;33m\u001b[0m\u001b[0m\n\u001b[1;32m--> 147\u001b[1;33m             return dict(\n\u001b[0m\u001b[0;32m    148\u001b[0m                 \u001b[1;33m(\u001b[0m\u001b[0mkey\u001b[0m\u001b[1;33m,\u001b[0m \u001b[0mval\u001b[0m\u001b[1;33m(\u001b[0m\u001b[0mreplicate_index\u001b[0m\u001b[1;33m=\u001b[0m\u001b[0mreplicate_index\u001b[0m\u001b[1;33m)\u001b[0m\u001b[1;33m)\u001b[0m \u001b[1;32mfor\u001b[0m \u001b[0mkey\u001b[0m\u001b[1;33m,\u001b[0m \u001b[0mval\u001b[0m \u001b[1;32min\u001b[0m \u001b[0mself\u001b[0m\u001b[1;33m.\u001b[0m\u001b[0mitems\u001b[0m\u001b[1;33m(\u001b[0m\u001b[1;33m)\u001b[0m\u001b[1;33m\u001b[0m\u001b[1;33m\u001b[0m\u001b[0m\n\u001b[0;32m    149\u001b[0m             )\n",
      "\u001b[1;32mc:\\Users\\santh\\Desktop\\VScode\\Particle_Chamber\\deeptrack\\properties.py\u001b[0m in \u001b[0;36m<genexpr>\u001b[1;34m(.0)\u001b[0m\n\u001b[0;32m    146\u001b[0m         \u001b[1;32mdef\u001b[0m \u001b[0maction\u001b[0m\u001b[1;33m(\u001b[0m\u001b[0mreplicate_index\u001b[0m\u001b[1;33m=\u001b[0m\u001b[1;32mNone\u001b[0m\u001b[1;33m)\u001b[0m\u001b[1;33m:\u001b[0m\u001b[1;33m\u001b[0m\u001b[1;33m\u001b[0m\u001b[0m\n\u001b[0;32m    147\u001b[0m             return dict(\n\u001b[1;32m--> 148\u001b[1;33m                 \u001b[1;33m(\u001b[0m\u001b[0mkey\u001b[0m\u001b[1;33m,\u001b[0m \u001b[0mval\u001b[0m\u001b[1;33m(\u001b[0m\u001b[0mreplicate_index\u001b[0m\u001b[1;33m=\u001b[0m\u001b[0mreplicate_index\u001b[0m\u001b[1;33m)\u001b[0m\u001b[1;33m)\u001b[0m \u001b[1;32mfor\u001b[0m \u001b[0mkey\u001b[0m\u001b[1;33m,\u001b[0m \u001b[0mval\u001b[0m \u001b[1;32min\u001b[0m \u001b[0mself\u001b[0m\u001b[1;33m.\u001b[0m\u001b[0mitems\u001b[0m\u001b[1;33m(\u001b[0m\u001b[1;33m)\u001b[0m\u001b[1;33m\u001b[0m\u001b[1;33m\u001b[0m\u001b[0m\n\u001b[0m\u001b[0;32m    149\u001b[0m             )\n\u001b[0;32m    150\u001b[0m \u001b[1;33m\u001b[0m\u001b[0m\n",
      "\u001b[1;32mc:\\Users\\santh\\Desktop\\VScode\\Particle_Chamber\\deeptrack\\backend\\core.py\u001b[0m in \u001b[0;36m__call__\u001b[1;34m(self, replicate_index)\u001b[0m\n\u001b[0;32m    266\u001b[0m \u001b[1;33m\u001b[0m\u001b[0m\n\u001b[0;32m    267\u001b[0m         \u001b[1;32mif\u001b[0m \u001b[1;32mnot\u001b[0m \u001b[0mself\u001b[0m\u001b[1;33m.\u001b[0m\u001b[0mis_valid\u001b[0m\u001b[1;33m(\u001b[0m\u001b[0mreplicate_index\u001b[0m\u001b[1;33m=\u001b[0m\u001b[0mreplicate_index\u001b[0m\u001b[1;33m)\u001b[0m\u001b[1;33m:\u001b[0m\u001b[1;33m\u001b[0m\u001b[1;33m\u001b[0m\u001b[0m\n\u001b[1;32m--> 268\u001b[1;33m             \u001b[0mnew_value\u001b[0m \u001b[1;33m=\u001b[0m \u001b[0mutils\u001b[0m\u001b[1;33m.\u001b[0m\u001b[0msafe_call\u001b[0m\u001b[1;33m(\u001b[0m\u001b[0mself\u001b[0m\u001b[1;33m.\u001b[0m\u001b[0maction\u001b[0m\u001b[1;33m,\u001b[0m \u001b[0mreplicate_index\u001b[0m\u001b[1;33m=\u001b[0m\u001b[0mreplicate_index\u001b[0m\u001b[1;33m)\u001b[0m\u001b[1;33m\u001b[0m\u001b[1;33m\u001b[0m\u001b[0m\n\u001b[0m\u001b[0;32m    269\u001b[0m             \u001b[0mself\u001b[0m\u001b[1;33m.\u001b[0m\u001b[0mstore\u001b[0m\u001b[1;33m(\u001b[0m\u001b[0mnew_value\u001b[0m\u001b[1;33m,\u001b[0m \u001b[0mreplicate_index\u001b[0m\u001b[1;33m=\u001b[0m\u001b[0mreplicate_index\u001b[0m\u001b[1;33m)\u001b[0m\u001b[1;33m\u001b[0m\u001b[1;33m\u001b[0m\u001b[0m\n\u001b[0;32m    270\u001b[0m \u001b[1;33m\u001b[0m\u001b[0m\n",
      "\u001b[1;32mc:\\Users\\santh\\Desktop\\VScode\\Particle_Chamber\\deeptrack\\utils.py\u001b[0m in \u001b[0;36msafe_call\u001b[1;34m(function, positional_args, **kwargs)\u001b[0m\n\u001b[0;32m    160\u001b[0m             \u001b[0minput_arguments\u001b[0m\u001b[1;33m[\u001b[0m\u001b[0mkey\u001b[0m\u001b[1;33m]\u001b[0m \u001b[1;33m=\u001b[0m \u001b[0mkwargs\u001b[0m\u001b[1;33m[\u001b[0m\u001b[0mkey\u001b[0m\u001b[1;33m]\u001b[0m\u001b[1;33m\u001b[0m\u001b[1;33m\u001b[0m\u001b[0m\n\u001b[0;32m    161\u001b[0m \u001b[1;33m\u001b[0m\u001b[0m\n\u001b[1;32m--> 162\u001b[1;33m     \u001b[1;32mreturn\u001b[0m \u001b[0mfunction\u001b[0m\u001b[1;33m(\u001b[0m\u001b[1;33m*\u001b[0m\u001b[0mpositional_args\u001b[0m\u001b[1;33m,\u001b[0m \u001b[1;33m**\u001b[0m\u001b[0minput_arguments\u001b[0m\u001b[1;33m)\u001b[0m\u001b[1;33m\u001b[0m\u001b[1;33m\u001b[0m\u001b[0m\n\u001b[0m",
      "\u001b[1;32mc:\\Users\\santh\\Desktop\\VScode\\Particle_Chamber\\deeptrack\\properties.py\u001b[0m in \u001b[0;36m<lambda>\u001b[1;34m(replicate_index)\u001b[0m\n\u001b[0;32m    109\u001b[0m \u001b[1;33m\u001b[0m\u001b[0m\n\u001b[0;32m    110\u001b[0m             return lambda replicate_index=None: sampling_rule(\n\u001b[1;32m--> 111\u001b[1;33m                 **dict(\n\u001b[0m\u001b[0;32m    112\u001b[0m                     \u001b[1;33m(\u001b[0m\u001b[0mkey\u001b[0m\u001b[1;33m,\u001b[0m \u001b[0mdep\u001b[0m\u001b[1;33m(\u001b[0m\u001b[0mreplicate_index\u001b[0m\u001b[1;33m=\u001b[0m\u001b[0mreplicate_index\u001b[0m\u001b[1;33m)\u001b[0m\u001b[1;33m)\u001b[0m\u001b[1;33m\u001b[0m\u001b[1;33m\u001b[0m\u001b[0m\n\u001b[0;32m    113\u001b[0m                     \u001b[1;32mfor\u001b[0m \u001b[0mkey\u001b[0m\u001b[1;33m,\u001b[0m \u001b[0mdep\u001b[0m \u001b[1;32min\u001b[0m \u001b[0mused_dependencies\u001b[0m\u001b[1;33m.\u001b[0m\u001b[0mitems\u001b[0m\u001b[1;33m(\u001b[0m\u001b[1;33m)\u001b[0m\u001b[1;33m\u001b[0m\u001b[1;33m\u001b[0m\u001b[0m\n",
      "\u001b[1;32mc:\\Users\\santh\\Desktop\\VScode\\Particle_Chamber\\deeptrack\\properties.py\u001b[0m in \u001b[0;36m<genexpr>\u001b[1;34m(.0)\u001b[0m\n\u001b[0;32m    110\u001b[0m             return lambda replicate_index=None: sampling_rule(\n\u001b[0;32m    111\u001b[0m                 **dict(\n\u001b[1;32m--> 112\u001b[1;33m                     \u001b[1;33m(\u001b[0m\u001b[0mkey\u001b[0m\u001b[1;33m,\u001b[0m \u001b[0mdep\u001b[0m\u001b[1;33m(\u001b[0m\u001b[0mreplicate_index\u001b[0m\u001b[1;33m=\u001b[0m\u001b[0mreplicate_index\u001b[0m\u001b[1;33m)\u001b[0m\u001b[1;33m)\u001b[0m\u001b[1;33m\u001b[0m\u001b[1;33m\u001b[0m\u001b[0m\n\u001b[0m\u001b[0;32m    113\u001b[0m                     \u001b[1;32mfor\u001b[0m \u001b[0mkey\u001b[0m\u001b[1;33m,\u001b[0m \u001b[0mdep\u001b[0m \u001b[1;32min\u001b[0m \u001b[0mused_dependencies\u001b[0m\u001b[1;33m.\u001b[0m\u001b[0mitems\u001b[0m\u001b[1;33m(\u001b[0m\u001b[1;33m)\u001b[0m\u001b[1;33m\u001b[0m\u001b[1;33m\u001b[0m\u001b[0m\n\u001b[0;32m    114\u001b[0m                 )\n",
      "\u001b[1;32mc:\\Users\\santh\\Desktop\\VScode\\Particle_Chamber\\deeptrack\\features.py\u001b[0m in \u001b[0;36m__call__\u001b[1;34m(self, image_list, replicate_index, **kwargs)\u001b[0m\n\u001b[0;32m    258\u001b[0m                     )\n\u001b[0;32m    259\u001b[0m \u001b[1;33m\u001b[0m\u001b[0m\n\u001b[1;32m--> 260\u001b[1;33m         \u001b[0moutput\u001b[0m \u001b[1;33m=\u001b[0m \u001b[0msuper\u001b[0m\u001b[1;33m(\u001b[0m\u001b[0mFeature\u001b[0m\u001b[1;33m,\u001b[0m \u001b[0mself\u001b[0m\u001b[1;33m)\u001b[0m\u001b[1;33m.\u001b[0m\u001b[0m__call__\u001b[0m\u001b[1;33m(\u001b[0m\u001b[0mreplicate_index\u001b[0m\u001b[1;33m=\u001b[0m\u001b[0mreplicate_index\u001b[0m\u001b[1;33m)\u001b[0m\u001b[1;33m\u001b[0m\u001b[1;33m\u001b[0m\u001b[0m\n\u001b[0m\u001b[0;32m    261\u001b[0m \u001b[1;33m\u001b[0m\u001b[0m\n\u001b[0;32m    262\u001b[0m         \u001b[1;32mfor\u001b[0m \u001b[0mkey\u001b[0m\u001b[1;33m,\u001b[0m \u001b[0mvalue\u001b[0m \u001b[1;32min\u001b[0m \u001b[0moriginal_values\u001b[0m\u001b[1;33m.\u001b[0m\u001b[0mitems\u001b[0m\u001b[1;33m(\u001b[0m\u001b[1;33m)\u001b[0m\u001b[1;33m:\u001b[0m\u001b[1;33m\u001b[0m\u001b[1;33m\u001b[0m\u001b[0m\n",
      "\u001b[1;32mc:\\Users\\santh\\Desktop\\VScode\\Particle_Chamber\\deeptrack\\backend\\core.py\u001b[0m in \u001b[0;36m__call__\u001b[1;34m(self, replicate_index)\u001b[0m\n\u001b[0;32m    266\u001b[0m \u001b[1;33m\u001b[0m\u001b[0m\n\u001b[0;32m    267\u001b[0m         \u001b[1;32mif\u001b[0m \u001b[1;32mnot\u001b[0m \u001b[0mself\u001b[0m\u001b[1;33m.\u001b[0m\u001b[0mis_valid\u001b[0m\u001b[1;33m(\u001b[0m\u001b[0mreplicate_index\u001b[0m\u001b[1;33m=\u001b[0m\u001b[0mreplicate_index\u001b[0m\u001b[1;33m)\u001b[0m\u001b[1;33m:\u001b[0m\u001b[1;33m\u001b[0m\u001b[1;33m\u001b[0m\u001b[0m\n\u001b[1;32m--> 268\u001b[1;33m             \u001b[0mnew_value\u001b[0m \u001b[1;33m=\u001b[0m \u001b[0mutils\u001b[0m\u001b[1;33m.\u001b[0m\u001b[0msafe_call\u001b[0m\u001b[1;33m(\u001b[0m\u001b[0mself\u001b[0m\u001b[1;33m.\u001b[0m\u001b[0maction\u001b[0m\u001b[1;33m,\u001b[0m \u001b[0mreplicate_index\u001b[0m\u001b[1;33m=\u001b[0m\u001b[0mreplicate_index\u001b[0m\u001b[1;33m)\u001b[0m\u001b[1;33m\u001b[0m\u001b[1;33m\u001b[0m\u001b[0m\n\u001b[0m\u001b[0;32m    269\u001b[0m             \u001b[0mself\u001b[0m\u001b[1;33m.\u001b[0m\u001b[0mstore\u001b[0m\u001b[1;33m(\u001b[0m\u001b[0mnew_value\u001b[0m\u001b[1;33m,\u001b[0m \u001b[0mreplicate_index\u001b[0m\u001b[1;33m=\u001b[0m\u001b[0mreplicate_index\u001b[0m\u001b[1;33m)\u001b[0m\u001b[1;33m\u001b[0m\u001b[1;33m\u001b[0m\u001b[0m\n\u001b[0;32m    270\u001b[0m \u001b[1;33m\u001b[0m\u001b[0m\n",
      "\u001b[1;32mc:\\Users\\santh\\Desktop\\VScode\\Particle_Chamber\\deeptrack\\utils.py\u001b[0m in \u001b[0;36msafe_call\u001b[1;34m(function, positional_args, **kwargs)\u001b[0m\n\u001b[0;32m    160\u001b[0m             \u001b[0minput_arguments\u001b[0m\u001b[1;33m[\u001b[0m\u001b[0mkey\u001b[0m\u001b[1;33m]\u001b[0m \u001b[1;33m=\u001b[0m \u001b[0mkwargs\u001b[0m\u001b[1;33m[\u001b[0m\u001b[0mkey\u001b[0m\u001b[1;33m]\u001b[0m\u001b[1;33m\u001b[0m\u001b[1;33m\u001b[0m\u001b[0m\n\u001b[0;32m    161\u001b[0m \u001b[1;33m\u001b[0m\u001b[0m\n\u001b[1;32m--> 162\u001b[1;33m     \u001b[1;32mreturn\u001b[0m \u001b[0mfunction\u001b[0m\u001b[1;33m(\u001b[0m\u001b[1;33m*\u001b[0m\u001b[0mpositional_args\u001b[0m\u001b[1;33m,\u001b[0m \u001b[1;33m**\u001b[0m\u001b[0minput_arguments\u001b[0m\u001b[1;33m)\u001b[0m\u001b[1;33m\u001b[0m\u001b[1;33m\u001b[0m\u001b[0m\n\u001b[0m",
      "\u001b[1;32mc:\\Users\\santh\\Desktop\\VScode\\Particle_Chamber\\deeptrack\\features.py\u001b[0m in \u001b[0;36maction\u001b[1;34m(self, replicate_index)\u001b[0m\n\u001b[0;32m    187\u001b[0m         \"\"\"\n\u001b[0;32m    188\u001b[0m \u001b[1;33m\u001b[0m\u001b[0m\n\u001b[1;32m--> 189\u001b[1;33m         \u001b[0mimage_list\u001b[0m \u001b[1;33m=\u001b[0m \u001b[0mself\u001b[0m\u001b[1;33m.\u001b[0m\u001b[0m_input\u001b[0m\u001b[1;33m(\u001b[0m\u001b[0mreplicate_index\u001b[0m\u001b[1;33m=\u001b[0m\u001b[0mreplicate_index\u001b[0m\u001b[1;33m)\u001b[0m\u001b[1;33m\u001b[0m\u001b[1;33m\u001b[0m\u001b[0m\n\u001b[0m\u001b[0;32m    190\u001b[0m \u001b[1;33m\u001b[0m\u001b[0m\n\u001b[0;32m    191\u001b[0m         \u001b[1;31m# Get the input arguments to the method .get()\u001b[0m\u001b[1;33m\u001b[0m\u001b[1;33m\u001b[0m\u001b[1;33m\u001b[0m\u001b[0m\n",
      "\u001b[1;32mc:\\Users\\santh\\Desktop\\VScode\\Particle_Chamber\\deeptrack\\backend\\core.py\u001b[0m in \u001b[0;36m__call__\u001b[1;34m(self, replicate_index)\u001b[0m\n\u001b[0;32m    267\u001b[0m         \u001b[1;32mif\u001b[0m \u001b[1;32mnot\u001b[0m \u001b[0mself\u001b[0m\u001b[1;33m.\u001b[0m\u001b[0mis_valid\u001b[0m\u001b[1;33m(\u001b[0m\u001b[0mreplicate_index\u001b[0m\u001b[1;33m=\u001b[0m\u001b[0mreplicate_index\u001b[0m\u001b[1;33m)\u001b[0m\u001b[1;33m:\u001b[0m\u001b[1;33m\u001b[0m\u001b[1;33m\u001b[0m\u001b[0m\n\u001b[0;32m    268\u001b[0m             \u001b[0mnew_value\u001b[0m \u001b[1;33m=\u001b[0m \u001b[0mutils\u001b[0m\u001b[1;33m.\u001b[0m\u001b[0msafe_call\u001b[0m\u001b[1;33m(\u001b[0m\u001b[0mself\u001b[0m\u001b[1;33m.\u001b[0m\u001b[0maction\u001b[0m\u001b[1;33m,\u001b[0m \u001b[0mreplicate_index\u001b[0m\u001b[1;33m=\u001b[0m\u001b[0mreplicate_index\u001b[0m\u001b[1;33m)\u001b[0m\u001b[1;33m\u001b[0m\u001b[1;33m\u001b[0m\u001b[0m\n\u001b[1;32m--> 269\u001b[1;33m             \u001b[0mself\u001b[0m\u001b[1;33m.\u001b[0m\u001b[0mstore\u001b[0m\u001b[1;33m(\u001b[0m\u001b[0mnew_value\u001b[0m\u001b[1;33m,\u001b[0m \u001b[0mreplicate_index\u001b[0m\u001b[1;33m=\u001b[0m\u001b[0mreplicate_index\u001b[0m\u001b[1;33m)\u001b[0m\u001b[1;33m\u001b[0m\u001b[1;33m\u001b[0m\u001b[0m\n\u001b[0m\u001b[0;32m    270\u001b[0m \u001b[1;33m\u001b[0m\u001b[0m\n\u001b[0;32m    271\u001b[0m         \u001b[1;32mreturn\u001b[0m \u001b[0mself\u001b[0m\u001b[1;33m.\u001b[0m\u001b[0mcurrent_value\u001b[0m\u001b[1;33m(\u001b[0m\u001b[0mreplicate_index\u001b[0m\u001b[1;33m=\u001b[0m\u001b[0mreplicate_index\u001b[0m\u001b[1;33m)\u001b[0m\u001b[1;33m\u001b[0m\u001b[1;33m\u001b[0m\u001b[0m\n",
      "\u001b[1;32mc:\\Users\\santh\\Desktop\\VScode\\Particle_Chamber\\deeptrack\\backend\\core.py\u001b[0m in \u001b[0;36mstore\u001b[1;34m(self, data, replicate_index)\u001b[0m\n\u001b[0;32m    165\u001b[0m \u001b[1;33m\u001b[0m\u001b[0m\n\u001b[0;32m    166\u001b[0m         \u001b[0mself\u001b[0m\u001b[1;33m.\u001b[0m\u001b[0mdata\u001b[0m\u001b[1;33m.\u001b[0m\u001b[0mcreate_index\u001b[0m\u001b[1;33m(\u001b[0m\u001b[0mreplicate_index\u001b[0m\u001b[1;33m)\u001b[0m\u001b[1;33m\u001b[0m\u001b[1;33m\u001b[0m\u001b[0m\n\u001b[1;32m--> 167\u001b[1;33m         \u001b[0mself\u001b[0m\u001b[1;33m.\u001b[0m\u001b[0mdata\u001b[0m\u001b[1;33m[\u001b[0m\u001b[0mreplicate_index\u001b[0m\u001b[1;33m]\u001b[0m\u001b[1;33m.\u001b[0m\u001b[0mstore\u001b[0m\u001b[1;33m(\u001b[0m\u001b[0mdata\u001b[0m\u001b[1;33m)\u001b[0m\u001b[1;33m\u001b[0m\u001b[1;33m\u001b[0m\u001b[0m\n\u001b[0m\u001b[0;32m    168\u001b[0m \u001b[1;33m\u001b[0m\u001b[0m\n\u001b[0;32m    169\u001b[0m         \u001b[1;32mreturn\u001b[0m \u001b[0mself\u001b[0m\u001b[1;33m\u001b[0m\u001b[1;33m\u001b[0m\u001b[0m\n",
      "\u001b[1;32mc:\\Users\\santh\\Desktop\\VScode\\Particle_Chamber\\deeptrack\\backend\\core.py\u001b[0m in \u001b[0;36m__getitem__\u001b[1;34m(self, replicate_index)\u001b[0m\n\u001b[0;32m     99\u001b[0m                 \u001b[1;32mreturn\u001b[0m \u001b[0moutput\u001b[0m\u001b[1;33m\u001b[0m\u001b[1;33m\u001b[0m\u001b[0m\n\u001b[0;32m    100\u001b[0m \u001b[1;33m\u001b[0m\u001b[0m\n\u001b[1;32m--> 101\u001b[1;33m         \u001b[1;32mraise\u001b[0m \u001b[0mNotImplementedError\u001b[0m\u001b[1;33m(\u001b[0m\u001b[1;34m\"Indexing with non-integer types not yet implemented\"\u001b[0m\u001b[1;33m)\u001b[0m\u001b[1;33m\u001b[0m\u001b[1;33m\u001b[0m\u001b[0m\n\u001b[0m\u001b[0;32m    102\u001b[0m \u001b[1;33m\u001b[0m\u001b[0m\n\u001b[0;32m    103\u001b[0m     \u001b[1;32mdef\u001b[0m \u001b[0mcreate_index\u001b[0m\u001b[1;33m(\u001b[0m\u001b[0mself\u001b[0m\u001b[1;33m,\u001b[0m \u001b[0mreplicate_index\u001b[0m\u001b[1;33m=\u001b[0m\u001b[1;32mNone\u001b[0m\u001b[1;33m)\u001b[0m\u001b[1;33m:\u001b[0m\u001b[1;33m\u001b[0m\u001b[1;33m\u001b[0m\u001b[0m\n",
      "\u001b[1;31mNotImplementedError\u001b[0m: Indexing with non-integer types not yet implemented"
     ]
    }
   ],
   "metadata": {}
  },
  {
   "cell_type": "code",
   "execution_count": null,
   "source": [
    "from deeptrack.models.yolo.yolo import YOLOv3\r\n",
    "\r\n",
    "model = YOLOv3(\r\n",
    "    (256, 256, 1),\r\n",
    "    2,\r\n",
    ")\r\n",
    "\r\n",
    "model.compile(optimizer=\"adam\")"
   ],
   "outputs": [],
   "metadata": {}
  },
  {
   "cell_type": "code",
   "execution_count": null,
   "source": [
    "from deeptrack.models.yolo.dataset import YoloDataGenerator\r\n",
    "\r\n",
    "generator = YoloDataGenerator(\r\n",
    "    feature=data,\r\n",
    "    input_size=np.array([256]),\r\n",
    "    num_class=2,\r\n",
    "    label_function=lambda d: np.array(d[1:]),\r\n",
    "    batch_size=4,\r\n",
    "    min_data_size=100,\r\n",
    "    max_data_size=200,\r\n",
    ")\r\n",
    "\r\n",
    "generator.anchors = model.anchors"
   ],
   "outputs": [],
   "metadata": {}
  }
 ],
 "metadata": {
  "orig_nbformat": 4,
  "language_info": {
   "name": "python",
   "version": "3.9.0",
   "mimetype": "text/x-python",
   "codemirror_mode": {
    "name": "ipython",
    "version": 3
   },
   "pygments_lexer": "ipython3",
   "nbconvert_exporter": "python",
   "file_extension": ".py"
  },
  "kernelspec": {
   "name": "python3",
   "display_name": "Python 3.9.0 64-bit"
  },
  "interpreter": {
   "hash": "66d3826222bf113b743ef904c03768c2b736ada1a7cfbeeca36e47bd84a0fc5c"
  }
 },
 "nbformat": 4,
 "nbformat_minor": 2
}